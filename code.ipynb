{
 "cells": [
  {
   "cell_type": "code",
   "execution_count": 135,
   "metadata": {},
   "outputs": [],
   "source": [
    "import numpy as np\n",
    "import pandas as pd\n",
    "\n",
    "datapath = './data/Hostel2.csv'#iso-8859-1 에서 utf-8로 인코딩\n",
    "data1 = pd.read_csv(datapath, sep=',', encoding='utf-8')\n",
    "\n",
    "# data1.shape"
   ]
  },
  {
   "cell_type": "code",
   "execution_count": 136,
   "metadata": {
    "scrolled": true
   },
   "outputs": [],
   "source": [
    "# data1.head()"
   ]
  },
  {
   "cell_type": "code",
   "execution_count": 137,
   "metadata": {},
   "outputs": [],
   "source": [
    "# data1.isnull().sum()\n",
    "# #결측치 확인"
   ]
  },
  {
   "cell_type": "code",
   "execution_count": 138,
   "metadata": {},
   "outputs": [
    {
     "name": "stderr",
     "output_type": "stream",
     "text": [
      "/home/u1019/.local/lib/python3.5/site-packages/ipykernel_launcher.py:4: SettingWithCopyWarning: \n",
      "A value is trying to be set on a copy of a slice from a DataFrame.\n",
      "Try using .loc[row_indexer,col_indexer] = value instead\n",
      "\n",
      "See the caveats in the documentation: http://pandas.pydata.org/pandas-docs/stable/indexing.html#indexing-view-versus-copy\n",
      "  after removing the cwd from sys.path.\n"
     ]
    }
   ],
   "source": [
    "filtered_data = data1.dropna()#결측값있는 행 제거\n",
    "del(filtered_data['Unnamed: 0'])\n",
    "del(filtered_data['hostel.name'])#필요없는 열 제거\n",
    "filtered_data['Distance']=filtered_data['Distance'].apply(lambda x: x.replace('km from city centre',''))\n",
    "# filtered_data.head()"
   ]
  },
  {
   "cell_type": "code",
   "execution_count": 139,
   "metadata": {
    "scrolled": true
   },
   "outputs": [],
   "source": [
    "# filtered_data.shape\n",
    "# filtered_data.info()#결측치 제거 후 데이터 확인"
   ]
  },
  {
   "cell_type": "code",
   "execution_count": 140,
   "metadata": {
    "scrolled": true
   },
   "outputs": [
    {
     "data": {
      "text/plain": [
       "LabelEncoder()"
      ]
     },
     "execution_count": 140,
     "metadata": {},
     "output_type": "execute_result"
    }
   ],
   "source": [
    "from sklearn import preprocessing \n",
    "\n",
    "le_city = preprocessing.LabelEncoder()\n",
    "le_city.fit(filtered_data['City'])\n",
    "le_rating = preprocessing.LabelEncoder()\n",
    "le_rating.fit(filtered_data['rating.band'])\n",
    "\n",
    "\n",
    "# print(le_city.classes_)\n",
    "# print(le_city.transform(['Fukuoka-City', 'Hiroshima', 'Kyoto', 'Osaka', 'Tokyo']))\n",
    "# print(le_city.inverse_transform([0, 1, 2, 3, 4]))\n",
    "# print(le_rating.classes_)\n",
    "# print(le_rating.transform(['Fabulous', 'Good', 'Rating', 'Superb', 'Very Good']))\n",
    "# print(le_rating.inverse_transform([0, 1, 2, 3, 4]))"
   ]
  },
  {
   "cell_type": "code",
   "execution_count": 141,
   "metadata": {
    "scrolled": true
   },
   "outputs": [],
   "source": [
    "# filtered_data['price.from'].value_counts()"
   ]
  },
  {
   "cell_type": "code",
   "execution_count": 142,
   "metadata": {
    "scrolled": true
   },
   "outputs": [],
   "source": [
    "import numpy as np\n",
    "a = filtered_data.copy()\n",
    "a = np.where((a[\"price.from\"].value_counts()==1),1,a[\"price.from\"].value_counts())"
   ]
  },
  {
   "cell_type": "code",
   "execution_count": 143,
   "metadata": {
    "scrolled": true
   },
   "outputs": [],
   "source": [
    "# i_class0 = np.where(a!=0)[0]\n",
    "# i_class1 = np.where(a==1)[0]\n",
    "\n",
    "# n_class0 = len(i_class0)\n",
    "# n_class1 = len(i_class1)\n",
    "\n",
    "# i_class1_upsampled = np.random.choice(i_class1,size=n_class0,replace=True)\n",
    "# np.concatenate((a[i_class1_upsampled], a[i_class0]))"
   ]
  },
  {
   "cell_type": "code",
   "execution_count": 144,
   "metadata": {},
   "outputs": [],
   "source": [
    "dicted_data = filtered_data.copy()\n",
    "dicted_data['City']=le_city.transform(filtered_data['City'])\n",
    "dicted_data['rating.band']=le_rating.transform(filtered_data['rating.band'])\n",
    "\n",
    "# dicted_data.head(10)"
   ]
  },
  {
   "cell_type": "code",
   "execution_count": 145,
   "metadata": {},
   "outputs": [],
   "source": [
    "from sklearn.model_selection import train_test_split\n",
    "from sklearn.linear_model import LinearRegression, Ridge\n",
    "\n",
    "features = ['City','rating.band','Distance','summary.score','atmosphere','cleanliness','facilities','location.y','security','staff','valueformoney']\n",
    "\n",
    "train_d, test_d = train_test_split(dicted_data, test_size=0.5)\n",
    "\n",
    "train_y = train_d['price.from']\n",
    "train_x = train_d[features]\n",
    "\n",
    "test_y = test_d['price.from']\n",
    "test_x = test_d[features]\n",
    "\n",
    "models = [LinearRegression(), Ridge()]\n",
    "for m in models:\n",
    "    m.fit(train_x, train_y)\n",
    "#     print('model {}= {}'.format(m, m.score(test_x, test_y)))"
   ]
  },
  {
   "cell_type": "code",
   "execution_count": 146,
   "metadata": {
    "scrolled": true
   },
   "outputs": [
    {
     "name": "stdout",
     "output_type": "stream",
     "text": [
      "<class 'sklearn.model_selection._split.KFold'>\n",
      "[Fold 1] train size = 268, test size = 30\n",
      "MAE =-0.12924865165793054\n",
      "[Fold 2] train size = 268, test size = 30\n",
      "MAE =0.04692271816142989\n",
      "[Fold 3] train size = 268, test size = 30\n",
      "MAE =-0.3074036301455336\n",
      "[Fold 4] train size = 268, test size = 30\n",
      "MAE =-0.04322653472621529\n",
      "[Fold 5] train size = 268, test size = 30\n",
      "MAE =0.09045404814748215\n",
      "[Fold 6] train size = 268, test size = 30\n",
      "MAE =0.11159740105424709\n",
      "[Fold 7] train size = 268, test size = 30\n",
      "MAE =-0.18027325461279942\n",
      "[Fold 8] train size = 268, test size = 30\n",
      "MAE =-0.021689034525122164\n",
      "[Fold 9] train size = 269, test size = 29\n",
      "MAE =0.01929578833215162\n",
      "[Fold 10] train size = 269, test size = 29\n",
      "MAE =0.14220306891160406\n",
      "-0.02713680810606862\n"
     ]
    }
   ],
   "source": [
    "from sklearn.model_selection  import KFold\n",
    "from sklearn.linear_model import LinearRegression\n",
    "from sklearn.preprocessing import MinMaxScaler\n",
    "\n",
    "\n",
    "\n",
    "features = ['City','rating.band','Distance','summary.score','atmosphere','cleanliness','facilities','location.y','security','staff','valueformoney']\n",
    "\n",
    "scaler = MinMaxScaler(features)\n",
    "\n",
    "kf = KFold(n_splits=10, shuffle=True)\n",
    "print(type(kf))\n",
    "fold_idx = 1\n",
    "mae = []\n",
    "\n",
    "for train_idx, test_idx in kf.split(dicted_data):\n",
    "    print('[Fold {}] train size = {}, test size = {}'.format(fold_idx, len(train_idx),len(test_idx)))\n",
    "    train_d, test_d = dicted_data.iloc[train_idx], dicted_data.iloc[test_idx]\n",
    "    \n",
    "    train_y = train_d['price.from']\n",
    "    train_x= train_d[features]\n",
    "    \n",
    "    test_y = test_d['price.from']\n",
    "    test_x = test_d[features]\n",
    "    \n",
    "    model = LinearRegression()\n",
    "    model.fit(train_x, train_y)\n",
    "    \n",
    "    mean_mae = model.score(test_x, test_y)\n",
    "    print('MAE ={}'.format(mean_mae))\n",
    "    fold_idx += 1 \n",
    "    mae.append(mean_mae)\n",
    "    \n",
    "print(np.average(mae))\n",
    "\n",
    "# Data imbalance 체크를 통해 빈도수가 적은 label 값을 업샘플링을 통해 \n",
    "# 데이터 불균형을 해결할 수 있지만 구현하지 못했다.\n",
    "\n",
    "# 데이터상 label을 예측하는데 필요하지 않은 위도, 경도 feature 값으로 포함시켰을때 \n",
    "# 성능이 낮아져 feature에 포함시키지 않았고, 카테고리 변수들의 feature를 정규화 하였지만 정규화 하기 전과 성능이 비슷했다.\n",
    "# 왜냐하면 feature의 범위가 비슷하기 때문이다. \n",
    "\n",
    "# 2가지모델(Linear regression, Ridge regression)을 돌려본 결과\n",
    "# Linear과 Ridge는 성능이 비슷하게 나와 오버피팅이 없는것으로 판단하여 일반적인 Linear regression 모델을 선택하였다. "
   ]
  }
 ],
 "metadata": {
  "kernelspec": {
   "display_name": "Python 3",
   "language": "python",
   "name": "python3"
  },
  "language_info": {
   "codemirror_mode": {
    "name": "ipython",
    "version": 3
   },
   "file_extension": ".py",
   "mimetype": "text/x-python",
   "name": "python",
   "nbconvert_exporter": "python",
   "pygments_lexer": "ipython3",
   "version": "3.5.2"
  }
 },
 "nbformat": 4,
 "nbformat_minor": 2
}
